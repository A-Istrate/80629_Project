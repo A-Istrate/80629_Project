{
 "cells": [
  {
   "cell_type": "code",
   "execution_count": 1,
   "metadata": {},
   "outputs": [],
   "source": [
    "from tensorflow.keras.callbacks import LambdaCallback\r\n",
    "from tensorflow.keras.models import Sequential\r\n",
    "from tensorflow.keras.layers import Dense, Embedding, LSTM, Dropout, Bidirectional, Conv1D\r\n",
    "from tensorflow.keras.optimizers import RMSprop, Adam\r\n",
    "import spacy\r\n",
    "from spacy_langdetect import LanguageDetector\r\n",
    "import numpy as np\r\n",
    "import random\r\n",
    "import sys\r\n",
    "import io\r\n",
    "import requests\r\n",
    "import re\r\n",
    "import pandas\r\n",
    "from tensorflow.keras import layers \r\n",
    "from tensorflow.keras import callbacks \r\n",
    "from langdetect import detect_langs\r\n",
    "import tensorflow as tf\r\n",
    "import matplotlib.pyplot as plt  # import matplotlib for plotting and visualization\r\n",
    "import matplotlib\r\n",
    "from sklearn.metrics import classification_report\r\n"
   ]
  },
  {
   "cell_type": "code",
   "execution_count": 2,
   "metadata": {},
   "outputs": [
    {
     "name": "stdout",
     "output_type": "stream",
     "text": [
      "31653 7926 3746 65\n",
      "0 0 0\n"
     ]
    },
    {
     "data": {
      "text/html": "<div>\n<style scoped>\n    .dataframe tbody tr th:only-of-type {\n        vertical-align: middle;\n    }\n\n    .dataframe tbody tr th {\n        vertical-align: top;\n    }\n\n    .dataframe thead th {\n        text-align: right;\n    }\n</style>\n<table border=\"1\" class=\"dataframe\">\n  <thead>\n    <tr style=\"text-align: right;\">\n      <th></th>\n      <th>Unnamed: 0</th>\n      <th>book_authors</th>\n      <th>book_desc</th>\n      <th>book_title</th>\n      <th>genres</th>\n      <th>img</th>\n      <th>main_label</th>\n    </tr>\n  </thead>\n  <tbody>\n    <tr>\n      <th>0</th>\n      <td>1228</td>\n      <td>Joe Haldeman</td>\n      <td>The Earth's leaders have drawn a line in the i...</td>\n      <td>The Forever War</td>\n      <td>Science Fiction|Fiction|War</td>\n      <td>1228.jpg</td>\n      <td>Science Fiction</td>\n    </tr>\n    <tr>\n      <th>1</th>\n      <td>1399</td>\n      <td>Chuck Palahniuk</td>\n      <td>Carl Streator is a reporter investigating Sudd...</td>\n      <td>Lullaby</td>\n      <td>Fiction|Horror|Contemporary|Fantasy|Novels</td>\n      <td>1399.jpg</td>\n      <td>Horror</td>\n    </tr>\n    <tr>\n      <th>2</th>\n      <td>2408</td>\n      <td>Kim Harrison</td>\n      <td>Despite dating one vampire and living with ano...</td>\n      <td>For a Few Demons More</td>\n      <td>Fantasy|Urban Fantasy|Fantasy|Fantasy|Paranorm...</td>\n      <td>2408.jpg</td>\n      <td>Fantasy</td>\n    </tr>\n    <tr>\n      <th>3</th>\n      <td>3243</td>\n      <td>Elizabeth Wurtzel</td>\n      <td>A harrowing story of breakdowns, suicide attem...</td>\n      <td>Prozac Nation</td>\n      <td>Nonfiction|Autobiography|Memoir|Psychology|Hea...</td>\n      <td>3243.jpg</td>\n      <td>Biography</td>\n    </tr>\n    <tr>\n      <th>4</th>\n      <td>3493</td>\n      <td>Jan-Philipp Sendker|Kevin Wiliarty</td>\n      <td>A poignant and inspirational love story set in...</td>\n      <td>The Art of Hearing Heartbeats</td>\n      <td>Fiction|Historical|Historical Fiction|Romance|...</td>\n      <td>3493.jpg</td>\n      <td>Historical</td>\n    </tr>\n    <tr>\n      <th>...</th>\n      <td>...</td>\n      <td>...</td>\n      <td>...</td>\n      <td>...</td>\n      <td>...</td>\n      <td>...</td>\n      <td>...</td>\n    </tr>\n    <tr>\n      <th>60</th>\n      <td>50135</td>\n      <td>Nagaru Tanigawa|Noizi Ito|Chris Pai</td>\n      <td>It's the end of the world as we know it - or i...</td>\n      <td>The Sigh of Haruhi Suzumiya</td>\n      <td>Novels|Light Novel|Fantasy|Science Fiction|Fic...</td>\n      <td>50135.jpg</td>\n      <td>Fantasy</td>\n    </tr>\n    <tr>\n      <th>61</th>\n      <td>50446</td>\n      <td>Dan Simmons</td>\n      <td>Together in one volume for the first time, the...</td>\n      <td>The Hyperion Omnibus</td>\n      <td>Science Fiction|Fiction|Space|Space Opera|Fant...</td>\n      <td>50446.jpg</td>\n      <td>Science Fiction</td>\n    </tr>\n    <tr>\n      <th>62</th>\n      <td>51054</td>\n      <td>P.C. Cast</td>\n      <td>Demeter proposes that Lina exchange souls with...</td>\n      <td>Goddess of Spring</td>\n      <td>Romance|Fantasy|Fantasy|Mythology|Romance|Para...</td>\n      <td>51054.jpg</td>\n      <td>Romance</td>\n    </tr>\n    <tr>\n      <th>63</th>\n      <td>52108</td>\n      <td>Toni Blake</td>\n      <td>The last thing she needs right now is a manLin...</td>\n      <td>Letters to a Secret Lover</td>\n      <td>Romance|Contemporary Romance|Romance|Contempor...</td>\n      <td>52108.jpg</td>\n      <td>Romance</td>\n    </tr>\n    <tr>\n      <th>64</th>\n      <td>52958</td>\n      <td>Isaac Asimov|Gönül Suveren</td>\n      <td>İmparatorluk, geleceği açısından dört yol ağzı...</td>\n      <td>Kurtarıcı</td>\n      <td>Science Fiction|Fiction</td>\n      <td>52958.jpg</td>\n      <td>Science Fiction</td>\n    </tr>\n  </tbody>\n</table>\n<p>65 rows × 7 columns</p>\n</div>",
      "text/plain": "    Unnamed: 0                         book_authors  \\\n0         1228                         Joe Haldeman   \n1         1399                      Chuck Palahniuk   \n2         2408                         Kim Harrison   \n3         3243                    Elizabeth Wurtzel   \n4         3493   Jan-Philipp Sendker|Kevin Wiliarty   \n..         ...                                  ...   \n60       50135  Nagaru Tanigawa|Noizi Ito|Chris Pai   \n61       50446                          Dan Simmons   \n62       51054                            P.C. Cast   \n63       52108                           Toni Blake   \n64       52958           Isaac Asimov|Gönül Suveren   \n\n                                            book_desc  \\\n0   The Earth's leaders have drawn a line in the i...   \n1   Carl Streator is a reporter investigating Sudd...   \n2   Despite dating one vampire and living with ano...   \n3   A harrowing story of breakdowns, suicide attem...   \n4   A poignant and inspirational love story set in...   \n..                                                ...   \n60  It's the end of the world as we know it - or i...   \n61  Together in one volume for the first time, the...   \n62  Demeter proposes that Lina exchange souls with...   \n63  The last thing she needs right now is a manLin...   \n64  İmparatorluk, geleceği açısından dört yol ağzı...   \n\n                       book_title  \\\n0                 The Forever War   \n1                         Lullaby   \n2           For a Few Demons More   \n3                   Prozac Nation   \n4   The Art of Hearing Heartbeats   \n..                            ...   \n60    The Sigh of Haruhi Suzumiya   \n61           The Hyperion Omnibus   \n62              Goddess of Spring   \n63      Letters to a Secret Lover   \n64                      Kurtarıcı   \n\n                                               genres        img  \\\n0                         Science Fiction|Fiction|War   1228.jpg   \n1          Fiction|Horror|Contemporary|Fantasy|Novels   1399.jpg   \n2   Fantasy|Urban Fantasy|Fantasy|Fantasy|Paranorm...   2408.jpg   \n3   Nonfiction|Autobiography|Memoir|Psychology|Hea...   3243.jpg   \n4   Fiction|Historical|Historical Fiction|Romance|...   3493.jpg   \n..                                                ...        ...   \n60  Novels|Light Novel|Fantasy|Science Fiction|Fic...  50135.jpg   \n61  Science Fiction|Fiction|Space|Space Opera|Fant...  50446.jpg   \n62  Romance|Fantasy|Fantasy|Mythology|Romance|Para...  51054.jpg   \n63  Romance|Contemporary Romance|Romance|Contempor...  52108.jpg   \n64                            Science Fiction|Fiction  52958.jpg   \n\n         main_label  \n0   Science Fiction  \n1            Horror  \n2           Fantasy  \n3         Biography  \n4        Historical  \n..              ...  \n60          Fantasy  \n61  Science Fiction  \n62          Romance  \n63          Romance  \n64  Science Fiction  \n\n[65 rows x 7 columns]"
     },
     "execution_count": 2,
     "metadata": {},
     "output_type": "execute_result"
    }
   ],
   "source": [
    "t=set()\r\n",
    "v=set()\r\n",
    "te=set()\r\n",
    "s=set()\r\n",
    "\r\n",
    "\r\n",
    "train=pandas.read_csv('train.csv')\r\n",
    "i=0\r\n",
    "while i<len(train):\r\n",
    "    t.add(train.iloc[i,5])\r\n",
    "    i+=1\r\n",
    "    \r\n",
    "validation=pandas.read_csv('valid.csv')\r\n",
    "i=0\r\n",
    "while i<len(validation):\r\n",
    "    v.add(validation.iloc[i,5])\r\n",
    "    i+=1\r\n",
    "    \r\n",
    "test=pandas.read_csv('test.csv')\r\n",
    "i=0\r\n",
    "while i<len(test):\r\n",
    "    te.add(test.iloc[i,5])\r\n",
    "    i+=1\r\n",
    "    \r\n",
    "survey=pandas.read_csv('survey.csv')\r\n",
    "survey=survey.drop(columns=['Unnamed: 0'])\r\n",
    "survey=survey.rename(columns={\"Unnamed: 0.1\": \"Unnamed: 0\"})\r\n",
    "i=0\r\n",
    "while i<len(survey):\r\n",
    "    s.add(survey.iloc[i,5])\r\n",
    "    i+=1\r\n",
    "    \r\n",
    "print (len(train),len(validation), len(test) , len(survey))\r\n",
    "\r\n",
    "\r\n",
    "frames=[train, validation, test, survey]\r\n",
    "books=pandas.concat(frames)\r\n",
    "books\r\n",
    "\r\n",
    "test1=train.merge(validation, left_on='img', right_on='img', how='inner')\r\n",
    "test2=train.merge(test, left_on='img', right_on='img', how='inner')\r\n",
    "test3=validation.merge(test, left_on='img', right_on='img', how='inner')\r\n",
    "print (len(test1), len(test2), len(test3))\r\n",
    "survey"
   ]
  },
  {
   "cell_type": "code",
   "execution_count": 3,
   "metadata": {},
   "outputs": [
    {
     "data": {
      "text/html": "<div>\n<style scoped>\n    .dataframe tbody tr th:only-of-type {\n        vertical-align: middle;\n    }\n\n    .dataframe tbody tr th {\n        vertical-align: top;\n    }\n\n    .dataframe thead th {\n        text-align: right;\n    }\n</style>\n<table border=\"1\" class=\"dataframe\">\n  <thead>\n    <tr style=\"text-align: right;\">\n      <th></th>\n      <th>book_desc</th>\n      <th>book_title</th>\n      <th>genres</th>\n      <th>img</th>\n      <th>main_label</th>\n    </tr>\n  </thead>\n  <tbody>\n    <tr>\n      <th>0</th>\n      <td>Donate Body to Science. Check.When seventeen-y...</td>\n      <td>Freak of Nature</td>\n      <td>Young Adult|Science Fiction|Romance|Fantasy</td>\n      <td>14373.jpg</td>\n      <td>Young Adult</td>\n    </tr>\n    <tr>\n      <th>1</th>\n      <td>Percy und Annabeth haben es mit ihren Freunden...</td>\n      <td>Das Haus des Hades</td>\n      <td>Fantasy|Young Adult|Fantasy|Mythology</td>\n      <td>39253.jpg</td>\n      <td>Fantasy</td>\n    </tr>\n    <tr>\n      <th>2</th>\n      <td>The grand residence of the famous alchemist, M...</td>\n      <td>Rose</td>\n      <td>Fantasy|Childrens|Middle Grade|Fantasy|Magic|C...</td>\n      <td>50647.jpg</td>\n      <td>Fantasy</td>\n    </tr>\n    <tr>\n      <th>3</th>\n      <td>✔Spell binding ✔Sexy ✔Romantic ✔Monster Roma...</td>\n      <td>My Beloved</td>\n      <td>Paranormal|Vampires|Fantasy|Supernatural|Roman...</td>\n      <td>4587.jpg</td>\n      <td>Fantasy</td>\n    </tr>\n    <tr>\n      <th>4</th>\n      <td>A.D. 1135. As church bells tolled for the deat...</td>\n      <td>When Christ and His Saints Slept</td>\n      <td>Historical|Historical Fiction|Fiction|Historic...</td>\n      <td>2775.jpg</td>\n      <td>Historical</td>\n    </tr>\n    <tr>\n      <th>...</th>\n      <td>...</td>\n      <td>...</td>\n      <td>...</td>\n      <td>...</td>\n      <td>...</td>\n    </tr>\n    <tr>\n      <th>60</th>\n      <td>It's the end of the world as we know it - or i...</td>\n      <td>The Sigh of Haruhi Suzumiya</td>\n      <td>Novels|Light Novel|Fantasy|Science Fiction|Fic...</td>\n      <td>50135.jpg</td>\n      <td>Fantasy</td>\n    </tr>\n    <tr>\n      <th>61</th>\n      <td>Together in one volume for the first time, the...</td>\n      <td>The Hyperion Omnibus</td>\n      <td>Science Fiction|Fiction|Space|Space Opera|Fant...</td>\n      <td>50446.jpg</td>\n      <td>Science Fiction</td>\n    </tr>\n    <tr>\n      <th>62</th>\n      <td>Demeter proposes that Lina exchange souls with...</td>\n      <td>Goddess of Spring</td>\n      <td>Romance|Fantasy|Fantasy|Mythology|Romance|Para...</td>\n      <td>51054.jpg</td>\n      <td>Romance</td>\n    </tr>\n    <tr>\n      <th>63</th>\n      <td>The last thing she needs right now is a manLin...</td>\n      <td>Letters to a Secret Lover</td>\n      <td>Romance|Contemporary Romance|Romance|Contempor...</td>\n      <td>52108.jpg</td>\n      <td>Romance</td>\n    </tr>\n    <tr>\n      <th>64</th>\n      <td>İmparatorluk, geleceği açısından dört yol ağzı...</td>\n      <td>Kurtarıcı</td>\n      <td>Science Fiction|Fiction</td>\n      <td>52958.jpg</td>\n      <td>Science Fiction</td>\n    </tr>\n  </tbody>\n</table>\n<p>42844 rows × 5 columns</p>\n</div>",
      "text/plain": "                                            book_desc  \\\n0   Donate Body to Science. Check.When seventeen-y...   \n1   Percy und Annabeth haben es mit ihren Freunden...   \n2   The grand residence of the famous alchemist, M...   \n3     ✔Spell binding ✔Sexy ✔Romantic ✔Monster Roma...   \n4   A.D. 1135. As church bells tolled for the deat...   \n..                                                ...   \n60  It's the end of the world as we know it - or i...   \n61  Together in one volume for the first time, the...   \n62  Demeter proposes that Lina exchange souls with...   \n63  The last thing she needs right now is a manLin...   \n64  İmparatorluk, geleceği açısından dört yol ağzı...   \n\n                          book_title  \\\n0                    Freak of Nature   \n1                 Das Haus des Hades   \n2                               Rose   \n3                         My Beloved   \n4   When Christ and His Saints Slept   \n..                               ...   \n60       The Sigh of Haruhi Suzumiya   \n61              The Hyperion Omnibus   \n62                 Goddess of Spring   \n63         Letters to a Secret Lover   \n64                         Kurtarıcı   \n\n                                               genres        img  \\\n0         Young Adult|Science Fiction|Romance|Fantasy  14373.jpg   \n1               Fantasy|Young Adult|Fantasy|Mythology  39253.jpg   \n2   Fantasy|Childrens|Middle Grade|Fantasy|Magic|C...  50647.jpg   \n3   Paranormal|Vampires|Fantasy|Supernatural|Roman...   4587.jpg   \n4   Historical|Historical Fiction|Fiction|Historic...   2775.jpg   \n..                                                ...        ...   \n60  Novels|Light Novel|Fantasy|Science Fiction|Fic...  50135.jpg   \n61  Science Fiction|Fiction|Space|Space Opera|Fant...  50446.jpg   \n62  Romance|Fantasy|Fantasy|Mythology|Romance|Para...  51054.jpg   \n63  Romance|Contemporary Romance|Romance|Contempor...  52108.jpg   \n64                            Science Fiction|Fiction  52958.jpg   \n\n         main_label  \n0       Young Adult  \n1           Fantasy  \n2           Fantasy  \n3           Fantasy  \n4        Historical  \n..              ...  \n60          Fantasy  \n61  Science Fiction  \n62          Romance  \n63          Romance  \n64  Science Fiction  \n\n[42844 rows x 5 columns]"
     },
     "execution_count": 3,
     "metadata": {},
     "output_type": "execute_result"
    }
   ],
   "source": [
    "#books=pandas.read_csv('C:/Users/benoi/Documents/HEC/_Hiver 2021/Machine Learning/projet/final_genres.txt', sep=',',)\r\n",
    "\r\n",
    "#with open('C:/Users/benoi/Documents/HEC/_Hiver 2021/Données textuelles/last_words.txt', 'r') as file:\r\n",
    " #   last_words = file.read()\r\n",
    "\r\n",
    "    \r\n",
    "    \r\n",
    "books=books.drop(['Unnamed: 0', 'book_authors'], axis=1)\r\n",
    "books = books[books['book_desc'].notnull()]\r\n",
    "books = books[books['book_title'].notnull()]\r\n",
    "books\r\n",
    "\r\n"
   ]
  },
  {
   "cell_type": "code",
   "execution_count": 4,
   "metadata": {},
   "outputs": [
    {
     "data": {
      "text/html": "<div>\n<style scoped>\n    .dataframe tbody tr th:only-of-type {\n        vertical-align: middle;\n    }\n\n    .dataframe tbody tr th {\n        vertical-align: top;\n    }\n\n    .dataframe thead th {\n        text-align: right;\n    }\n</style>\n<table border=\"1\" class=\"dataframe\">\n  <thead>\n    <tr style=\"text-align: right;\">\n      <th></th>\n      <th>book_desc</th>\n      <th>book_title</th>\n      <th>genres</th>\n      <th>img</th>\n      <th>main_label</th>\n      <th>desc_clean</th>\n      <th>title_clean</th>\n    </tr>\n  </thead>\n  <tbody>\n    <tr>\n      <th>0</th>\n      <td>Donate Body to Science. Check.When seventeen-y...</td>\n      <td>Freak of Nature</td>\n      <td>Young Adult|Science Fiction|Romance|Fantasy</td>\n      <td>14373.jpg</td>\n      <td>Young Adult</td>\n      <td>donate body to science checkwhen seventeen-yea...</td>\n      <td>freak of nature</td>\n    </tr>\n    <tr>\n      <th>1</th>\n      <td>Percy und Annabeth haben es mit ihren Freunden...</td>\n      <td>Das Haus des Hades</td>\n      <td>Fantasy|Young Adult|Fantasy|Mythology</td>\n      <td>39253.jpg</td>\n      <td>Fantasy</td>\n      <td>percy und annabeth haben es mit ihren freunden...</td>\n      <td>das haus des hades</td>\n    </tr>\n    <tr>\n      <th>2</th>\n      <td>The grand residence of the famous alchemist, M...</td>\n      <td>Rose</td>\n      <td>Fantasy|Childrens|Middle Grade|Fantasy|Magic|C...</td>\n      <td>50647.jpg</td>\n      <td>Fantasy</td>\n      <td>the grand residence of the famous alchemist mr...</td>\n      <td>rose</td>\n    </tr>\n    <tr>\n      <th>3</th>\n      <td>✔Spell binding ✔Sexy ✔Romantic ✔Monster Roma...</td>\n      <td>My Beloved</td>\n      <td>Paranormal|Vampires|Fantasy|Supernatural|Roman...</td>\n      <td>4587.jpg</td>\n      <td>Fantasy</td>\n      <td>✔spell binding ✔sexy ✔romantic ✔monster roma...</td>\n      <td>my beloved</td>\n    </tr>\n    <tr>\n      <th>4</th>\n      <td>A.D. 1135. As church bells tolled for the deat...</td>\n      <td>When Christ and His Saints Slept</td>\n      <td>Historical|Historical Fiction|Fiction|Historic...</td>\n      <td>2775.jpg</td>\n      <td>Historical</td>\n      <td>ad 1135 as church bells tolled for the death o...</td>\n      <td>when christ and his saints slept</td>\n    </tr>\n    <tr>\n      <th>...</th>\n      <td>...</td>\n      <td>...</td>\n      <td>...</td>\n      <td>...</td>\n      <td>...</td>\n      <td>...</td>\n      <td>...</td>\n    </tr>\n    <tr>\n      <th>60</th>\n      <td>It's the end of the world as we know it - or i...</td>\n      <td>The Sigh of Haruhi Suzumiya</td>\n      <td>Novels|Light Novel|Fantasy|Science Fiction|Fic...</td>\n      <td>50135.jpg</td>\n      <td>Fantasy</td>\n      <td>it's the end of the world as we know it - or i...</td>\n      <td>the sigh of haruhi suzumiya</td>\n    </tr>\n    <tr>\n      <th>61</th>\n      <td>Together in one volume for the first time, the...</td>\n      <td>The Hyperion Omnibus</td>\n      <td>Science Fiction|Fiction|Space|Space Opera|Fant...</td>\n      <td>50446.jpg</td>\n      <td>Science Fiction</td>\n      <td>together in one volume for the first time the ...</td>\n      <td>the hyperion omnibus</td>\n    </tr>\n    <tr>\n      <th>62</th>\n      <td>Demeter proposes that Lina exchange souls with...</td>\n      <td>Goddess of Spring</td>\n      <td>Romance|Fantasy|Fantasy|Mythology|Romance|Para...</td>\n      <td>51054.jpg</td>\n      <td>Romance</td>\n      <td>demeter proposes that lina exchange souls with...</td>\n      <td>goddess of spring</td>\n    </tr>\n    <tr>\n      <th>63</th>\n      <td>The last thing she needs right now is a manLin...</td>\n      <td>Letters to a Secret Lover</td>\n      <td>Romance|Contemporary Romance|Romance|Contempor...</td>\n      <td>52108.jpg</td>\n      <td>Romance</td>\n      <td>the last thing she needs right now is a manlin...</td>\n      <td>letters to a secret lover</td>\n    </tr>\n    <tr>\n      <th>64</th>\n      <td>İmparatorluk, geleceği açısından dört yol ağzı...</td>\n      <td>Kurtarıcı</td>\n      <td>Science Fiction|Fiction</td>\n      <td>52958.jpg</td>\n      <td>Science Fiction</td>\n      <td>i̇mparatorluk geleceği açısından dört yol ağzı...</td>\n      <td>kurtarıcı</td>\n    </tr>\n  </tbody>\n</table>\n<p>42844 rows × 7 columns</p>\n</div>",
      "text/plain": "                                            book_desc  \\\n0   Donate Body to Science. Check.When seventeen-y...   \n1   Percy und Annabeth haben es mit ihren Freunden...   \n2   The grand residence of the famous alchemist, M...   \n3     ✔Spell binding ✔Sexy ✔Romantic ✔Monster Roma...   \n4   A.D. 1135. As church bells tolled for the deat...   \n..                                                ...   \n60  It's the end of the world as we know it - or i...   \n61  Together in one volume for the first time, the...   \n62  Demeter proposes that Lina exchange souls with...   \n63  The last thing she needs right now is a manLin...   \n64  İmparatorluk, geleceği açısından dört yol ağzı...   \n\n                          book_title  \\\n0                    Freak of Nature   \n1                 Das Haus des Hades   \n2                               Rose   \n3                         My Beloved   \n4   When Christ and His Saints Slept   \n..                               ...   \n60       The Sigh of Haruhi Suzumiya   \n61              The Hyperion Omnibus   \n62                 Goddess of Spring   \n63         Letters to a Secret Lover   \n64                         Kurtarıcı   \n\n                                               genres        img  \\\n0         Young Adult|Science Fiction|Romance|Fantasy  14373.jpg   \n1               Fantasy|Young Adult|Fantasy|Mythology  39253.jpg   \n2   Fantasy|Childrens|Middle Grade|Fantasy|Magic|C...  50647.jpg   \n3   Paranormal|Vampires|Fantasy|Supernatural|Roman...   4587.jpg   \n4   Historical|Historical Fiction|Fiction|Historic...   2775.jpg   \n..                                                ...        ...   \n60  Novels|Light Novel|Fantasy|Science Fiction|Fic...  50135.jpg   \n61  Science Fiction|Fiction|Space|Space Opera|Fant...  50446.jpg   \n62  Romance|Fantasy|Fantasy|Mythology|Romance|Para...  51054.jpg   \n63  Romance|Contemporary Romance|Romance|Contempor...  52108.jpg   \n64                            Science Fiction|Fiction  52958.jpg   \n\n         main_label                                         desc_clean  \\\n0       Young Adult  donate body to science checkwhen seventeen-yea...   \n1           Fantasy  percy und annabeth haben es mit ihren freunden...   \n2           Fantasy  the grand residence of the famous alchemist mr...   \n3           Fantasy    ✔spell binding ✔sexy ✔romantic ✔monster roma...   \n4        Historical  ad 1135 as church bells tolled for the death o...   \n..              ...                                                ...   \n60          Fantasy  it's the end of the world as we know it - or i...   \n61  Science Fiction  together in one volume for the first time the ...   \n62          Romance  demeter proposes that lina exchange souls with...   \n63          Romance  the last thing she needs right now is a manlin...   \n64  Science Fiction  i̇mparatorluk geleceği açısından dört yol ağzı...   \n\n                         title_clean  \n0                    freak of nature  \n1                 das haus des hades  \n2                               rose  \n3                         my beloved  \n4   when christ and his saints slept  \n..                               ...  \n60       the sigh of haruhi suzumiya  \n61              the hyperion omnibus  \n62                 goddess of spring  \n63         letters to a secret lover  \n64                         kurtarıcı  \n\n[42844 rows x 7 columns]"
     },
     "execution_count": 4,
     "metadata": {},
     "output_type": "execute_result"
    }
   ],
   "source": [
    "i=0\n",
    "cd=[]\n",
    "ct=[]\n",
    "while i<len(books):\n",
    "    a=re.sub('[?,!@#*$:.«)(]', '', books.iloc[i,0].lower())\n",
    "    cd.append(a)\n",
    "    ct.append(re.sub('[?,!@#:*$.«)(]', '', books.iloc[i,1].lower()))\n",
    "    \n",
    "    i+=1\n",
    "    \n",
    "    \n",
    "books['desc_clean']=cd\n",
    "books['title_clean']=ct\n",
    "books\n",
    "\n"
   ]
  },
  {
   "cell_type": "code",
   "execution_count": null,
   "metadata": {},
   "outputs": [],
   "source": []
  },
  {
   "cell_type": "code",
   "execution_count": 5,
   "metadata": {
    "scrolled": true
   },
   "outputs": [
    {
     "data": {
      "text/html": "<div>\n<style scoped>\n    .dataframe tbody tr th:only-of-type {\n        vertical-align: middle;\n    }\n\n    .dataframe tbody tr th {\n        vertical-align: top;\n    }\n\n    .dataframe thead th {\n        text-align: right;\n    }\n</style>\n<table border=\"1\" class=\"dataframe\">\n  <thead>\n    <tr style=\"text-align: right;\">\n      <th></th>\n      <th>book_desc</th>\n      <th>book_title</th>\n      <th>genres</th>\n      <th>img</th>\n      <th>main_label</th>\n      <th>desc_clean</th>\n      <th>title_clean</th>\n    </tr>\n  </thead>\n  <tbody>\n    <tr>\n      <th>2</th>\n      <td>The grand residence of the famous alchemist, M...</td>\n      <td>Rose</td>\n      <td>Fantasy|Childrens|Middle Grade|Fantasy|Magic|C...</td>\n      <td>50647.jpg</td>\n      <td>Fantasy</td>\n      <td>the grand residence of the famous alchemist mr...</td>\n      <td>rose</td>\n    </tr>\n    <tr>\n      <th>4</th>\n      <td>A.D. 1135. As church bells tolled for the deat...</td>\n      <td>When Christ and His Saints Slept</td>\n      <td>Historical|Historical Fiction|Fiction|Historic...</td>\n      <td>2775.jpg</td>\n      <td>Historical</td>\n      <td>ad 1135 as church bells tolled for the death o...</td>\n      <td>when christ and his saints slept</td>\n    </tr>\n    <tr>\n      <th>5</th>\n      <td>Karl, aged seventeen, is hopelessly in love. B...</td>\n      <td>Dying to Know You</td>\n      <td>Young Adult|Contemporary|Realistic Fiction|Rom...</td>\n      <td>14235.jpg</td>\n      <td>Young Adult</td>\n      <td>karl aged seventeen is hopelessly in love but ...</td>\n      <td>dying to know you</td>\n    </tr>\n    <tr>\n      <th>7</th>\n      <td>With this outrageous new novel, China Miéville...</td>\n      <td>Kraken</td>\n      <td>Fantasy|Fiction|Fantasy|Urban Fantasy|Science ...</td>\n      <td>29404.jpg</td>\n      <td>Fantasy</td>\n      <td>with this outrageous new novel china miéville ...</td>\n      <td>kraken</td>\n    </tr>\n    <tr>\n      <th>8</th>\n      <td>Both Tolkien and C.S. Lewis are literary super...</td>\n      <td>Tolkien and C.S. Lewis: The Gift of a Friendship</td>\n      <td>Biography|Nonfiction</td>\n      <td>50432.jpg</td>\n      <td>Biography</td>\n      <td>both tolkien and cs lewis are literary superst...</td>\n      <td>tolkien and cs lewis the gift of a friendship</td>\n    </tr>\n    <tr>\n      <th>...</th>\n      <td>...</td>\n      <td>...</td>\n      <td>...</td>\n      <td>...</td>\n      <td>...</td>\n      <td>...</td>\n      <td>...</td>\n    </tr>\n    <tr>\n      <th>59</th>\n      <td>\"Searing . . . captures an exquisite range of ...</td>\n      <td>Girl, Interrupted</td>\n      <td>Nonfiction|Autobiography|Memoir|Psychology</td>\n      <td>49758.jpg</td>\n      <td>Biography</td>\n      <td>\"searing    captures an exquisite range of sel...</td>\n      <td>girl interrupted</td>\n    </tr>\n    <tr>\n      <th>60</th>\n      <td>It's the end of the world as we know it - or i...</td>\n      <td>The Sigh of Haruhi Suzumiya</td>\n      <td>Novels|Light Novel|Fantasy|Science Fiction|Fic...</td>\n      <td>50135.jpg</td>\n      <td>Fantasy</td>\n      <td>it's the end of the world as we know it - or i...</td>\n      <td>the sigh of haruhi suzumiya</td>\n    </tr>\n    <tr>\n      <th>61</th>\n      <td>Together in one volume for the first time, the...</td>\n      <td>The Hyperion Omnibus</td>\n      <td>Science Fiction|Fiction|Space|Space Opera|Fant...</td>\n      <td>50446.jpg</td>\n      <td>Science Fiction</td>\n      <td>together in one volume for the first time the ...</td>\n      <td>the hyperion omnibus</td>\n    </tr>\n    <tr>\n      <th>62</th>\n      <td>Demeter proposes that Lina exchange souls with...</td>\n      <td>Goddess of Spring</td>\n      <td>Romance|Fantasy|Fantasy|Mythology|Romance|Para...</td>\n      <td>51054.jpg</td>\n      <td>Romance</td>\n      <td>demeter proposes that lina exchange souls with...</td>\n      <td>goddess of spring</td>\n    </tr>\n    <tr>\n      <th>63</th>\n      <td>The last thing she needs right now is a manLin...</td>\n      <td>Letters to a Secret Lover</td>\n      <td>Romance|Contemporary Romance|Romance|Contempor...</td>\n      <td>52108.jpg</td>\n      <td>Romance</td>\n      <td>the last thing she needs right now is a manlin...</td>\n      <td>letters to a secret lover</td>\n    </tr>\n  </tbody>\n</table>\n<p>35946 rows × 7 columns</p>\n</div>",
      "text/plain": "                                            book_desc  \\\n2   The grand residence of the famous alchemist, M...   \n4   A.D. 1135. As church bells tolled for the deat...   \n5   Karl, aged seventeen, is hopelessly in love. B...   \n7   With this outrageous new novel, China Miéville...   \n8   Both Tolkien and C.S. Lewis are literary super...   \n..                                                ...   \n59  \"Searing . . . captures an exquisite range of ...   \n60  It's the end of the world as we know it - or i...   \n61  Together in one volume for the first time, the...   \n62  Demeter proposes that Lina exchange souls with...   \n63  The last thing she needs right now is a manLin...   \n\n                                          book_title  \\\n2                                               Rose   \n4                   When Christ and His Saints Slept   \n5                                  Dying to Know You   \n7                                             Kraken   \n8   Tolkien and C.S. Lewis: The Gift of a Friendship   \n..                                               ...   \n59                                 Girl, Interrupted   \n60                       The Sigh of Haruhi Suzumiya   \n61                              The Hyperion Omnibus   \n62                                 Goddess of Spring   \n63                         Letters to a Secret Lover   \n\n                                               genres        img  \\\n2   Fantasy|Childrens|Middle Grade|Fantasy|Magic|C...  50647.jpg   \n4   Historical|Historical Fiction|Fiction|Historic...   2775.jpg   \n5   Young Adult|Contemporary|Realistic Fiction|Rom...  14235.jpg   \n7   Fantasy|Fiction|Fantasy|Urban Fantasy|Science ...  29404.jpg   \n8                                Biography|Nonfiction  50432.jpg   \n..                                                ...        ...   \n59         Nonfiction|Autobiography|Memoir|Psychology  49758.jpg   \n60  Novels|Light Novel|Fantasy|Science Fiction|Fic...  50135.jpg   \n61  Science Fiction|Fiction|Space|Space Opera|Fant...  50446.jpg   \n62  Romance|Fantasy|Fantasy|Mythology|Romance|Para...  51054.jpg   \n63  Romance|Contemporary Romance|Romance|Contempor...  52108.jpg   \n\n         main_label                                         desc_clean  \\\n2           Fantasy  the grand residence of the famous alchemist mr...   \n4        Historical  ad 1135 as church bells tolled for the death o...   \n5       Young Adult  karl aged seventeen is hopelessly in love but ...   \n7           Fantasy  with this outrageous new novel china miéville ...   \n8         Biography  both tolkien and cs lewis are literary superst...   \n..              ...                                                ...   \n59        Biography  \"searing    captures an exquisite range of sel...   \n60          Fantasy  it's the end of the world as we know it - or i...   \n61  Science Fiction  together in one volume for the first time the ...   \n62          Romance  demeter proposes that lina exchange souls with...   \n63          Romance  the last thing she needs right now is a manlin...   \n\n                                      title_clean  \n2                                            rose  \n4                when christ and his saints slept  \n5                               dying to know you  \n7                                          kraken  \n8   tolkien and cs lewis the gift of a friendship  \n..                                            ...  \n59                               girl interrupted  \n60                    the sigh of haruhi suzumiya  \n61                           the hyperion omnibus  \n62                              goddess of spring  \n63                      letters to a secret lover  \n\n[35946 rows x 7 columns]"
     },
     "execution_count": 5,
     "metadata": {},
     "output_type": "execute_result"
    }
   ],
   "source": [
    "from langdetect import detect_langs#remove list that are not in english\r\n",
    "i=0\r\n",
    "\r\n",
    "while i<len(books):   \r\n",
    "    try:\r\n",
    "        a=detect_langs(books.iloc[i,0])\r\n",
    "        if str(a[0])[:2]=='en':\r\n",
    "            i+=1\r\n",
    "        else:\r\n",
    "            books=books.drop(books.index[i])\r\n",
    "       \r\n",
    "    except :\r\n",
    "         books=books.drop(books.index[i])\r\n",
    "        \r\n",
    "\r\n",
    "books"
   ]
  },
  {
   "cell_type": "code",
   "execution_count": 7,
   "metadata": {},
   "outputs": [
    {
     "name": "stdout",
     "output_type": "stream",
     "text": [
      "22762 41 35946 143662\n"
     ]
    },
    {
     "data": {
      "text/html": "<div>\n<style scoped>\n    .dataframe tbody tr th:only-of-type {\n        vertical-align: middle;\n    }\n\n    .dataframe tbody tr th {\n        vertical-align: top;\n    }\n\n    .dataframe thead th {\n        text-align: right;\n    }\n</style>\n<table border=\"1\" class=\"dataframe\">\n  <thead>\n    <tr style=\"text-align: right;\">\n      <th></th>\n      <th>book_desc</th>\n      <th>book_title</th>\n      <th>genres</th>\n      <th>img</th>\n      <th>main_label</th>\n      <th>desc_clean</th>\n      <th>title_clean</th>\n      <th>title_list</th>\n    </tr>\n  </thead>\n  <tbody>\n    <tr>\n      <th>2</th>\n      <td>The grand residence of the famous alchemist, M...</td>\n      <td>Rose</td>\n      <td>Fantasy|Childrens|Middle Grade|Fantasy|Magic|C...</td>\n      <td>50647.jpg</td>\n      <td>Fantasy</td>\n      <td>the grand residence of the famous alchemist mr...</td>\n      <td>rose</td>\n      <td>[rose]</td>\n    </tr>\n    <tr>\n      <th>4</th>\n      <td>A.D. 1135. As church bells tolled for the deat...</td>\n      <td>When Christ and His Saints Slept</td>\n      <td>Historical|Historical Fiction|Fiction|Historic...</td>\n      <td>2775.jpg</td>\n      <td>Historical</td>\n      <td>ad 1135 as church bells tolled for the death o...</td>\n      <td>when christ and his saints slept</td>\n      <td>[when, christ, and, his, saints, slept]</td>\n    </tr>\n    <tr>\n      <th>5</th>\n      <td>Karl, aged seventeen, is hopelessly in love. B...</td>\n      <td>Dying to Know You</td>\n      <td>Young Adult|Contemporary|Realistic Fiction|Rom...</td>\n      <td>14235.jpg</td>\n      <td>Young Adult</td>\n      <td>karl aged seventeen is hopelessly in love but ...</td>\n      <td>dying to know you</td>\n      <td>[dying, to, know, you]</td>\n    </tr>\n    <tr>\n      <th>7</th>\n      <td>With this outrageous new novel, China Miéville...</td>\n      <td>Kraken</td>\n      <td>Fantasy|Fiction|Fantasy|Urban Fantasy|Science ...</td>\n      <td>29404.jpg</td>\n      <td>Fantasy</td>\n      <td>with this outrageous new novel china miéville ...</td>\n      <td>kraken</td>\n      <td>[kraken]</td>\n    </tr>\n    <tr>\n      <th>8</th>\n      <td>Both Tolkien and C.S. Lewis are literary super...</td>\n      <td>Tolkien and C.S. Lewis: The Gift of a Friendship</td>\n      <td>Biography|Nonfiction</td>\n      <td>50432.jpg</td>\n      <td>Biography</td>\n      <td>both tolkien and cs lewis are literary superst...</td>\n      <td>tolkien and cs lewis the gift of a friendship</td>\n      <td>[tolkien, and, cs, lewis, the, gift, of, a, fr...</td>\n    </tr>\n    <tr>\n      <th>...</th>\n      <td>...</td>\n      <td>...</td>\n      <td>...</td>\n      <td>...</td>\n      <td>...</td>\n      <td>...</td>\n      <td>...</td>\n      <td>...</td>\n    </tr>\n    <tr>\n      <th>59</th>\n      <td>\"Searing . . . captures an exquisite range of ...</td>\n      <td>Girl, Interrupted</td>\n      <td>Nonfiction|Autobiography|Memoir|Psychology</td>\n      <td>49758.jpg</td>\n      <td>Biography</td>\n      <td>\"searing    captures an exquisite range of sel...</td>\n      <td>girl interrupted</td>\n      <td>[girl, interrupted]</td>\n    </tr>\n    <tr>\n      <th>60</th>\n      <td>It's the end of the world as we know it - or i...</td>\n      <td>The Sigh of Haruhi Suzumiya</td>\n      <td>Novels|Light Novel|Fantasy|Science Fiction|Fic...</td>\n      <td>50135.jpg</td>\n      <td>Fantasy</td>\n      <td>it's the end of the world as we know it - or i...</td>\n      <td>the sigh of haruhi suzumiya</td>\n      <td>[the, sigh, of, haruhi, suzumiya]</td>\n    </tr>\n    <tr>\n      <th>61</th>\n      <td>Together in one volume for the first time, the...</td>\n      <td>The Hyperion Omnibus</td>\n      <td>Science Fiction|Fiction|Space|Space Opera|Fant...</td>\n      <td>50446.jpg</td>\n      <td>Science Fiction</td>\n      <td>together in one volume for the first time the ...</td>\n      <td>the hyperion omnibus</td>\n      <td>[the, hyperion, omnibus]</td>\n    </tr>\n    <tr>\n      <th>62</th>\n      <td>Demeter proposes that Lina exchange souls with...</td>\n      <td>Goddess of Spring</td>\n      <td>Romance|Fantasy|Fantasy|Mythology|Romance|Para...</td>\n      <td>51054.jpg</td>\n      <td>Romance</td>\n      <td>demeter proposes that lina exchange souls with...</td>\n      <td>goddess of spring</td>\n      <td>[goddess, of, spring]</td>\n    </tr>\n    <tr>\n      <th>63</th>\n      <td>The last thing she needs right now is a manLin...</td>\n      <td>Letters to a Secret Lover</td>\n      <td>Romance|Contemporary Romance|Romance|Contempor...</td>\n      <td>52108.jpg</td>\n      <td>Romance</td>\n      <td>the last thing she needs right now is a manlin...</td>\n      <td>letters to a secret lover</td>\n      <td>[letters, to, a, secret, lover]</td>\n    </tr>\n  </tbody>\n</table>\n<p>35946 rows × 8 columns</p>\n</div>",
      "text/plain": "                                            book_desc  \\\n2   The grand residence of the famous alchemist, M...   \n4   A.D. 1135. As church bells tolled for the deat...   \n5   Karl, aged seventeen, is hopelessly in love. B...   \n7   With this outrageous new novel, China Miéville...   \n8   Both Tolkien and C.S. Lewis are literary super...   \n..                                                ...   \n59  \"Searing . . . captures an exquisite range of ...   \n60  It's the end of the world as we know it - or i...   \n61  Together in one volume for the first time, the...   \n62  Demeter proposes that Lina exchange souls with...   \n63  The last thing she needs right now is a manLin...   \n\n                                          book_title  \\\n2                                               Rose   \n4                   When Christ and His Saints Slept   \n5                                  Dying to Know You   \n7                                             Kraken   \n8   Tolkien and C.S. Lewis: The Gift of a Friendship   \n..                                               ...   \n59                                 Girl, Interrupted   \n60                       The Sigh of Haruhi Suzumiya   \n61                              The Hyperion Omnibus   \n62                                 Goddess of Spring   \n63                         Letters to a Secret Lover   \n\n                                               genres        img  \\\n2   Fantasy|Childrens|Middle Grade|Fantasy|Magic|C...  50647.jpg   \n4   Historical|Historical Fiction|Fiction|Historic...   2775.jpg   \n5   Young Adult|Contemporary|Realistic Fiction|Rom...  14235.jpg   \n7   Fantasy|Fiction|Fantasy|Urban Fantasy|Science ...  29404.jpg   \n8                                Biography|Nonfiction  50432.jpg   \n..                                                ...        ...   \n59         Nonfiction|Autobiography|Memoir|Psychology  49758.jpg   \n60  Novels|Light Novel|Fantasy|Science Fiction|Fic...  50135.jpg   \n61  Science Fiction|Fiction|Space|Space Opera|Fant...  50446.jpg   \n62  Romance|Fantasy|Fantasy|Mythology|Romance|Para...  51054.jpg   \n63  Romance|Contemporary Romance|Romance|Contempor...  52108.jpg   \n\n         main_label                                         desc_clean  \\\n2           Fantasy  the grand residence of the famous alchemist mr...   \n4        Historical  ad 1135 as church bells tolled for the death o...   \n5       Young Adult  karl aged seventeen is hopelessly in love but ...   \n7           Fantasy  with this outrageous new novel china miéville ...   \n8         Biography  both tolkien and cs lewis are literary superst...   \n..              ...                                                ...   \n59        Biography  \"searing    captures an exquisite range of sel...   \n60          Fantasy  it's the end of the world as we know it - or i...   \n61  Science Fiction  together in one volume for the first time the ...   \n62          Romance  demeter proposes that lina exchange souls with...   \n63          Romance  the last thing she needs right now is a manlin...   \n\n                                      title_clean  \\\n2                                            rose   \n4                when christ and his saints slept   \n5                               dying to know you   \n7                                          kraken   \n8   tolkien and cs lewis the gift of a friendship   \n..                                            ...   \n59                               girl interrupted   \n60                    the sigh of haruhi suzumiya   \n61                           the hyperion omnibus   \n62                              goddess of spring   \n63                      letters to a secret lover   \n\n                                           title_list  \n2                                              [rose]  \n4             [when, christ, and, his, saints, slept]  \n5                              [dying, to, know, you]  \n7                                            [kraken]  \n8   [tolkien, and, cs, lewis, the, gift, of, a, fr...  \n..                                                ...  \n59                                [girl, interrupted]  \n60                  [the, sigh, of, haruhi, suzumiya]  \n61                           [the, hyperion, omnibus]  \n62                              [goddess, of, spring]  \n63                    [letters, to, a, secret, lover]  \n\n[35946 rows x 8 columns]"
     },
     "execution_count": 7,
     "metadata": {},
     "output_type": "execute_result"
    }
   ],
   "source": [
    "i=0\r\n",
    "b=[]\r\n",
    "c=[]\r\n",
    "g=[]\r\n",
    "l=[]\r\n",
    "while i<len(books):\r\n",
    "    a=books.iloc[i,6].split(' ')\r\n",
    "    l.append(a)\r\n",
    "    g.append(books.iloc[i,4])\r\n",
    "    j=0\r\n",
    "    while j<len(a):\r\n",
    "        b.append(a[j])\r\n",
    "        j+=1\r\n",
    "    c.append(len(a))\r\n",
    "    i+=1\r\n",
    "w=set(b)\r\n",
    "dg=set(g)\r\n",
    "books['title_list']=l\r\n",
    "#vocab=len(w)\r\n",
    "vocab = len(exp_token.word_index)\r\n",
    "print(vocab, max(c), len(g), len(b))\r\n",
    "books"
   ]
  },
  {
   "cell_type": "code",
   "execution_count": 8,
   "metadata": {},
   "outputs": [
    {
     "name": "stdout",
     "output_type": "stream",
     "text": [
      "27009 6135 2753 49 0\n"
     ]
    },
    {
     "data": {
      "text/plain": "t     27009\nv      6135\nte     2753\ns        49\nName: class, dtype: int64"
     },
     "execution_count": 8,
     "metadata": {},
     "output_type": "execute_result"
    }
   ],
   "source": [
    "i=0\n",
    "cla=[]\n",
    "itrain=[]\n",
    "ival=[]\n",
    "itest=[]\n",
    "isurvey=[]\n",
    "iautre=[]\n",
    "while i<len(books):\n",
    "    if books.iloc[i,3] in v:\n",
    "        cla.append('v')\n",
    "        ival.append(i)\n",
    "    elif books.iloc[i,3] in t:\n",
    "        cla.append('t')\n",
    "        itrain.append(i)\n",
    "    elif books.iloc[i,3] in te:\n",
    "        cla.append('te')\n",
    "        itest.append(i)\n",
    "    elif books.iloc[i,3] in s:\n",
    "        cla.append('s')\n",
    "        isurvey.append(i)\n",
    "    else:\n",
    "        cla.append('a')\n",
    "        iautre.append(i)\n",
    "    i+=1\n",
    "\n",
    "books['class']=cla\n",
    "\n",
    "\n",
    "autre = books[books['class']=='a']\n",
    "\n",
    "print (len(itrain), len(ival), len(itest), len(isurvey), len(iautre))\n",
    "books['class'].value_counts()\n",
    "\n",
    "#print (len(t), len(v))\n",
    "#31661 7925 3749 65\n"
   ]
  },
  {
   "cell_type": "code",
   "execution_count": 23,
   "metadata": {},
   "outputs": [
    {
     "name": "stdout",
     "output_type": "stream",
     "text": [
      "Frequency of the elements in the List :  Counter({3: 8225, 2: 7675, 4: 5015, 1: 4886, 5: 3296, 6: 1850, 7: 1158, 8: 870, 9: 683, 10: 535, 11: 423, 12: 337, 13: 238, 14: 221, 15: 155, 16: 102, 18: 60, 17: 53, 19: 43, 20: 28, 21: 20, 22: 15, 23: 12, 27: 10, 24: 10, 26: 7, 28: 6, 25: 5, 29: 3, 31: 2, 34: 2, 38: 1, 30: 1, 35: 1, 41: 1})\n"
     ]
    },
    {
     "ename": "NameError",
     "evalue": "name 'y_train' is not defined",
     "output_type": "error",
     "traceback": [
      "\u001b[1;31m---------------------------------------------------------------------------\u001b[0m",
      "\u001b[1;31mNameError\u001b[0m                                 Traceback (most recent call last)",
      "\u001b[1;32m<ipython-input-23-f06482a29a39>\u001b[0m in \u001b[0;36m<module>\u001b[1;34m\u001b[0m\n\u001b[0;32m     48\u001b[0m \u001b[1;31m#x_train, x_test, y_train, y_test = train_test_split(x, y, test_size=0.33, random_state=1)\u001b[0m\u001b[1;33m\u001b[0m\u001b[1;33m\u001b[0m\u001b[1;33m\u001b[0m\u001b[0m\n\u001b[0;32m     49\u001b[0m \u001b[1;33m\u001b[0m\u001b[0m\n\u001b[1;32m---> 50\u001b[1;33m \u001b[0mprint\u001b[0m \u001b[1;33m(\u001b[0m\u001b[0mx_train\u001b[0m\u001b[1;33m.\u001b[0m\u001b[0mshape\u001b[0m\u001b[1;33m,\u001b[0m \u001b[0mx_test\u001b[0m\u001b[1;33m.\u001b[0m\u001b[0mshape\u001b[0m\u001b[1;33m,\u001b[0m \u001b[0my_train\u001b[0m\u001b[1;33m.\u001b[0m\u001b[0mshape\u001b[0m\u001b[1;33m,\u001b[0m \u001b[0my_test\u001b[0m\u001b[1;33m.\u001b[0m\u001b[0mshape\u001b[0m\u001b[1;33m,\u001b[0m \u001b[0mvocab\u001b[0m\u001b[1;33m,\u001b[0m \u001b[0midx2lab\u001b[0m\u001b[1;33m)\u001b[0m\u001b[1;33m\u001b[0m\u001b[1;33m\u001b[0m\u001b[0m\n\u001b[0m\u001b[0;32m     51\u001b[0m \u001b[0mprint\u001b[0m\u001b[1;33m(\u001b[0m\u001b[0mx\u001b[0m\u001b[1;33m[\u001b[0m\u001b[1;36m0\u001b[0m\u001b[1;33m]\u001b[0m\u001b[1;33m)\u001b[0m\u001b[1;33m\u001b[0m\u001b[1;33m\u001b[0m\u001b[0m\n",
      "\u001b[1;31mNameError\u001b[0m: name 'y_train' is not defined"
     ]
    }
   ],
   "source": [
    "from tensorflow.keras.preprocessing.text import Tokenizer\n",
    "from tensorflow.keras.preprocessing.sequence import pad_sequences\n",
    "from sklearn.model_selection import train_test_split\n",
    "from sklearn.preprocessing import LabelEncoder\n",
    "import collections\n",
    "from numpy import array\n",
    "from tensorflow.keras.utils import to_categorical\n",
    "\n",
    "\n",
    "maxwords=max(c)\n",
    "nbwords = collections.Counter(c)\n",
    "print(\"Frequency of the elements in the List : \",nbwords)\n",
    "\n",
    "#transformer x\n",
    "x = books['title_list']\n",
    "tra = books[books['class']=='t']['title_list']\n",
    "val = books[books['class']=='v']['title_list']\n",
    "tes = books[books['class']=='te']['title_list']\n",
    "sur = books[books['class']=='s']['title_list']\n",
    "\n",
    "xtoken = Tokenizer()\n",
    "xtoken.fit_on_texts(x)\n",
    "\n",
    "x_train = xtoken.texts_to_sequences(tra)\n",
    "x_train = pad_sequences(x_train, maxlen=maxwords, padding='pre')\n",
    "\n",
    "x_val = xtoken.texts_to_sequences(val)\n",
    "x_val = pad_sequences(x_val, maxlen=maxwords, padding='pre')\n",
    "\n",
    "x_test = xtoken.texts_to_sequences(tes)\n",
    "x_test = pad_sequences(x_test, maxlen=maxwords, padding='pre')\n",
    "\n",
    "x_survey = xtoken.texts_to_sequences(sur)\n",
    "x_survey = pad_sequences(x_survey, maxlen=maxwords, padding='pre')\n",
    "\n",
    "#transformer y\n",
    "y = array(books['main_label'])\n",
    "le = LabelEncoder()\n",
    "\n",
    "y=le.fit_transform(y)\n",
    "y = to_categorical(y)\n",
    "\n",
    "lab2idx = dict(zip(le.classes_, range(len(le.classes_))))\n",
    "idx2lab = {}\n",
    "for k, v in lab2idx.items():\n",
    "    idx2lab[v] = k\n",
    "\n",
    "#x_train, x_test, y_train, y_test = train_test_split(x, y, test_size=0.33, random_state=1)\n",
    "\n",
    "print (x_train.shape, x_test.shape, y_train.shape, y_test.shape, vocab, idx2lab)\n",
    "print(x[0])"
   ]
  },
  {
   "cell_type": "code",
   "execution_count": 26,
   "metadata": {},
   "outputs": [],
   "source": [
    "%store -r exp_token"
   ]
  },
  {
   "cell_type": "code",
   "execution_count": 27,
   "metadata": {},
   "outputs": [
    {
     "name": "stdout",
     "output_type": "stream",
     "text": [
      "(27009, 41) (6135, 41) (2753, 41) (49, 41)\n",
      "(27009, 13) (6135, 13) (2753, 13) (49, 13)\n"
     ]
    }
   ],
   "source": [
    "from tensorflow.keras.preprocessing.text import Tokenizer\r\n",
    "from tensorflow.keras.preprocessing.sequence import pad_sequences\r\n",
    "from sklearn.model_selection import train_test_split\r\n",
    "from sklearn.preprocessing import LabelEncoder\r\n",
    "import collections\r\n",
    "from numpy import array\r\n",
    "from tensorflow.keras.utils import to_categorical\r\n",
    "\r\n",
    "\r\n",
    "maxwords=max(c)\r\n",
    "nbwords = collections.Counter(c)\r\n",
    "#print(\"Frequency of the elements in the List : \",nbwords)\r\n",
    "\r\n",
    "#transformer x\r\n",
    "x = books['title_list']\r\n",
    "#xtoken = Tokenizer()\r\n",
    "#xtoken.fit_on_texts(x)\r\n",
    "xtoken = exp_token\r\n",
    "x = xtoken.texts_to_sequences(x)\r\n",
    "x = pad_sequences(x, maxlen=maxwords, padding='pre')\r\n",
    "\r\n",
    "#transformer y\r\n",
    "y = array(books['main_label'])\r\n",
    "le = LabelEncoder()\r\n",
    "\r\n",
    "y=le.fit_transform(y)\r\n",
    "y = to_categorical(y)\r\n",
    "\r\n",
    "lab2idx = dict(zip(le.classes_, range(len(le.classes_))))\r\n",
    "idx2lab = {}\r\n",
    "for k, v in lab2idx.items():\r\n",
    "    idx2lab[v] = k\r\n",
    "\r\n",
    "#x_train, x_test, y_train, y_test = train_test_split(x, y, test_size=0.33, random_state=1)\r\n",
    "\r\n",
    "i=0\r\n",
    "x_train = []\r\n",
    "while i<len(itrain):\r\n",
    "    j=itrain[i]\r\n",
    "    x_train.append(x[j])\r\n",
    "    i+=1\r\n",
    "x_train=np.asarray(x_train)  \r\n",
    "\r\n",
    "i=0\r\n",
    "x_val = []\r\n",
    "while i<len(ival):\r\n",
    "    j=ival[i]\r\n",
    "    x_val.append(x[j])\r\n",
    "    i+=1\r\n",
    "x_val=np.asarray(x_val)  \r\n",
    "\r\n",
    "i=0\r\n",
    "x_test = []\r\n",
    "while i<len(itest):\r\n",
    "    j=itest[i]\r\n",
    "    x_test.append(x[j])\r\n",
    "    i+=1\r\n",
    "x_test=np.asarray(x_test)\r\n",
    "\r\n",
    "i=0\r\n",
    "x_survey = []\r\n",
    "while i<len(isurvey):\r\n",
    "    j=isurvey[i]\r\n",
    "    x_survey.append(x[j])\r\n",
    "    i+=1\r\n",
    "x_survey=np.asarray(x_survey)\r\n",
    "\r\n",
    "\r\n",
    "\r\n",
    "\r\n",
    "i=0\r\n",
    "y_train = []\r\n",
    "while i<len(itrain):\r\n",
    "    j=itrain[i]\r\n",
    "    y_train.append(y[j])\r\n",
    "    i+=1\r\n",
    "y_train=np.asarray(y_train)  \r\n",
    "\r\n",
    "i=0\r\n",
    "y_val = []\r\n",
    "while i<len(ival):\r\n",
    "    j=ival[i]\r\n",
    "    y_val.append(y[j])\r\n",
    "    i+=1\r\n",
    "y_val=np.asarray(y_val)  \r\n",
    "\r\n",
    "i=0\r\n",
    "y_test = []\r\n",
    "while i<len(itest):\r\n",
    "    j=itest[i]\r\n",
    "    y_test.append(y[j])\r\n",
    "    i+=1\r\n",
    "y_test=np.asarray(y_test)\r\n",
    "\r\n",
    "i=0\r\n",
    "y_survey = []\r\n",
    "while i<len(isurvey):\r\n",
    "    j=isurvey[i]\r\n",
    "    y_survey.append(y[j])\r\n",
    "    i+=1\r\n",
    "y_survey=np.asarray(y_survey)\r\n",
    "\r\n",
    "print(x_train.shape, x_val.shape, x_test.shape, x_survey.shape)\r\n",
    "print(y_train.shape, y_val.shape, y_test.shape, y_survey.shape)\r\n"
   ]
  },
  {
   "cell_type": "code",
   "execution_count": 28,
   "metadata": {},
   "outputs": [
    {
     "name": "stdout",
     "output_type": "stream",
     "text": [
      "{0: 1.6351726333985352, 1: 2.0558192736631398, 2: 0.3831338399718613, 3: 0.761309725516774, 4: 2.5251844046364593, 5: 0.8171031096563012, 6: 3.8564531702607017, 7: 1.575542406311637, 8: 1.170650687162118, 9: 0.5067956237311076, 10: 1.2999891504828036, 11: 2.1368446082510997, 12: 0.7143055859149892} Fantasy                  7217\n",
      "Romance                  5456\n",
      "Young Adult              3871\n",
      "Historical               3632\n",
      "Mystery & Crime          3384\n",
      "Religion & Philosophy    2362\n",
      "Science Fiction          2127\n",
      "Politics & History       1755\n",
      "Biography                1691\n",
      "Childrens                1345\n",
      "Sequential Art           1294\n",
      "Horror                   1095\n",
      "Poetry                    717\n",
      "Name: main_label, dtype: int64\n",
      "35946\n"
     ]
    },
    {
     "name": "stderr",
     "output_type": "stream",
     "text": [
      "C:\\Users\\istra\\AppData\\Local\\Packages\\PythonSoftwareFoundation.Python.3.8_qbz5n2kfra8p0\\LocalCache\\local-packages\\Python38\\site-packages\\sklearn\\utils\\validation.py:70: FutureWarning: Pass classes=[ 0  1  2  3  4  5  6  7  8  9 10 11 12], y=[ 2  3 12 ... 10  9  9] as keyword args. From version 1.0 (renaming of 0.25) passing these as positional arguments will result in an error\n",
      "  warnings.warn(f\"Pass {args_msg} as keyword args. From version \"\n"
     ]
    }
   ],
   "source": [
    "from sklearn.utils import class_weight\n",
    "import numpy as np\n",
    "   \n",
    "\n",
    "#cw = class_weight.compute_class_weight('balanced',np.unique(books['main_label']), books['main_label']),\n",
    "\n",
    "\n",
    "y_integers = np.argmax(y, axis=1)\n",
    "cw = class_weight.compute_class_weight('balanced', np.unique(y_integers), y_integers)\n",
    "cw = dict(enumerate(cw))\n",
    "\n",
    "print(cw, books['main_label'].value_counts())\n",
    "print(len(y_integers))"
   ]
  },
  {
   "cell_type": "code",
   "execution_count": 29,
   "metadata": {},
   "outputs": [
    {
     "name": "stdout",
     "output_type": "stream",
     "text": [
      "(22763, 300) 4994 Pourcentage de mots non trouvés dans GLOVE:  0.21939111716381848\n"
     ]
    }
   ],
   "source": [
    "j=0\r\n",
    "embedding_vector = {}\r\n",
    "glove = open('C:/Users/istra/Google Drive/Cours HEC/Maitrise/Semestre 2/Machine_Learning/TP GROUPE/80629ML/glove.6B.300d.txt', encoding=\"utf8\")\r\n",
    "for line in glove:\r\n",
    "    a = line.split(' ')\r\n",
    "    word = a[0]\r\n",
    "    coef = np.array(a[1:],dtype = 'float32')\r\n",
    "    embedding_vector[word] = coef\r\n",
    "    \r\n",
    "embedding_matrix = np.zeros((vocab+1,300))\r\n",
    "for word,i in xtoken.word_index.items():\r\n",
    "    embedding_value = embedding_vector.get(word)\r\n",
    "    if embedding_value is not None:\r\n",
    "        embedding_matrix[i] = embedding_value\r\n",
    "    else:\r\n",
    "        j+=1\r\n",
    "        \r\n",
    "print(embedding_matrix.shape, j, 'Pourcentage de mots non trouvés dans GLOVE: ', j/embedding_matrix.shape[0])"
   ]
  },
  {
   "cell_type": "code",
   "execution_count": 27,
   "metadata": {},
   "outputs": [
    {
     "name": "stdout",
     "output_type": "stream",
     "text": [
      "Stored 'x_test' (ndarray)\n",
      "Stored 'y_test' (ndarray)\n"
     ]
    }
   ],
   "source": [
    "%store x_test\r\n",
    "%store y_test"
   ]
  },
  {
   "cell_type": "code",
   "execution_count": null,
   "metadata": {},
   "outputs": [],
   "source": []
  },
  {
   "cell_type": "code",
   "execution_count": 36,
   "metadata": {},
   "outputs": [
    {
     "name": "stdout",
     "output_type": "stream",
     "text": [
      "Model: \"sequential_3\"\n",
      "_________________________________________________________________\n",
      "Layer (type)                 Output Shape              Param #   \n",
      "=================================================================\n",
      "embedding_3 (Embedding)      (None, 41, 300)           6828900   \n",
      "_________________________________________________________________\n",
      "conv1d_3 (Conv1D)            (None, 41, 32)            19232     \n",
      "_________________________________________________________________\n",
      "batch_normalization_3 (Batch (None, 41, 32)            128       \n",
      "_________________________________________________________________\n",
      "max_pooling1d_3 (MaxPooling1 (None, 20, 32)            0         \n",
      "_________________________________________________________________\n",
      "bidirectional_3 (Bidirection (None, 200)               106400    \n",
      "_________________________________________________________________\n",
      "dropout_3 (Dropout)          (None, 200)               0         \n",
      "_________________________________________________________________\n",
      "dense_6 (Dense)              (None, 100)               20100     \n",
      "_________________________________________________________________\n",
      "dense_7 (Dense)              (None, 13)                1313      \n",
      "=================================================================\n",
      "Total params: 6,976,073\n",
      "Trainable params: 6,976,009\n",
      "Non-trainable params: 64\n",
      "_________________________________________________________________\n"
     ]
    }
   ],
   "source": [
    "model = Sequential()\r\n",
    "model.add(Embedding(vocab+1, 300, weights = [embedding_matrix], input_length=maxwords, trainable = True))\r\n",
    "model.add(layers.Conv1D(filters=32, kernel_size=2, padding='same', activation='relu'))#filter et kernel\r\n",
    "model.add(layers.BatchNormalization())\r\n",
    "model.add(layers.MaxPooling1D(pool_size=2))#poolsize\r\n",
    "model.add(Bidirectional(LSTM(100)))#100\r\n",
    "model.add(Dropout(0.25))#dropout\r\n",
    "model.add(Dense(100,activation = 'relu'))\r\n",
    "model.add(Dense(len(dg),activation = 'softmax'))\r\n",
    "model.compile(\r\n",
    "    optimizer=tf.keras.optimizers.Adam(\r\n",
    "        learning_rate=0.001,\r\n",
    "        beta_1=0.9,\r\n",
    "        beta_2=0.999\r\n",
    "    ),\r\n",
    "    loss='categorical_crossentropy',\r\n",
    "     metrics = ['accuracy'])\r\n",
    "\r\n",
    "ES= callbacks.EarlyStopping(monitor='loss', patience=4)\r\n",
    "\r\n",
    "model.summary()"
   ]
  },
  {
   "cell_type": "code",
   "execution_count": 34,
   "metadata": {
    "scrolled": true
   },
   "outputs": [
    {
     "name": "stdout",
     "output_type": "stream",
     "text": [
      "Epoch 1/2\n",
      "212/212 [==============================] - 19s 88ms/step - loss: 0.4203 - accuracy: 0.8087 - val_loss: 3.2591 - val_accuracy: 0.4005\n",
      "Epoch 2/2\n",
      "212/212 [==============================] - 19s 89ms/step - loss: 0.4324 - accuracy: 0.8039 - val_loss: 3.3185 - val_accuracy: 0.4093\n"
     ]
    }
   ],
   "source": [
    "history = model.fit(x_train,y_train, epochs = 2, validation_data=(x_val, y_val), callbacks=[ES], verbose=1, batch_size=128,class_weight=cw)"
   ]
  },
  {
   "cell_type": "code",
   "execution_count": 35,
   "metadata": {},
   "outputs": [],
   "source": [
    "model.save(\"NLP_LSTM1.h5\")"
   ]
  },
  {
   "cell_type": "code",
   "execution_count": 39,
   "metadata": {},
   "outputs": [
    {
     "data": {
      "text/plain": "array([[0., 0., 1., ..., 0., 0., 0.],\n       [0., 0., 0., ..., 0., 0., 0.],\n       [0., 0., 0., ..., 0., 0., 1.],\n       ...,\n       [0., 0., 0., ..., 0., 0., 0.],\n       [0., 0., 0., ..., 0., 0., 0.],\n       [0., 0., 1., ..., 0., 0., 0.]], dtype=float32)"
     },
     "execution_count": 39,
     "metadata": {},
     "output_type": "execute_result"
    }
   ],
   "source": [
    "y_train"
   ]
  },
  {
   "cell_type": "code",
   "execution_count": 37,
   "metadata": {},
   "outputs": [
    {
     "name": "stdout",
     "output_type": "stream",
     "text": [
      "Epoch 1/10\n",
      "212/212 [==============================] - 24s 92ms/step - loss: 2.2029 - accuracy: 0.2498 - val_loss: 2.0825 - val_accuracy: 0.3542\n",
      "Epoch 2/10\n",
      "212/212 [==============================] - 19s 90ms/step - loss: 1.7304 - accuracy: 0.4311 - val_loss: 1.8172 - val_accuracy: 0.3992\n",
      "Epoch 3/10\n",
      "212/212 [==============================] - 19s 88ms/step - loss: 1.4494 - accuracy: 0.5371 - val_loss: 1.8782 - val_accuracy: 0.4052\n",
      "Epoch 4/10\n",
      "212/212 [==============================] - 19s 88ms/step - loss: 1.1877 - accuracy: 0.6216 - val_loss: 1.9843 - val_accuracy: 0.4086\n",
      "Epoch 5/10\n",
      "212/212 [==============================] - 19s 88ms/step - loss: 1.0389 - accuracy: 0.6736 - val_loss: 2.0925 - val_accuracy: 0.4300\n",
      "Epoch 6/10\n",
      "212/212 [==============================] - 19s 89ms/step - loss: 0.9327 - accuracy: 0.7056 - val_loss: 2.2363 - val_accuracy: 0.4067\n",
      "Epoch 7/10\n",
      "212/212 [==============================] - 19s 88ms/step - loss: 0.8385 - accuracy: 0.7345 - val_loss: 2.2433 - val_accuracy: 0.4209\n",
      "Epoch 8/10\n",
      "212/212 [==============================] - 19s 88ms/step - loss: 0.7377 - accuracy: 0.7653 - val_loss: 2.3443 - val_accuracy: 0.4271\n",
      "Epoch 9/10\n",
      "212/212 [==============================] - 19s 89ms/step - loss: 0.6233 - accuracy: 0.7983 - val_loss: 2.5408 - val_accuracy: 0.4189\n",
      "Epoch 10/10\n",
      "212/212 [==============================] - 19s 89ms/step - loss: 0.6018 - accuracy: 0.8038 - val_loss: 2.6450 - val_accuracy: 0.4298\n"
     ]
    }
   ],
   "source": [
    "history_nw = model.fit(x_train,y_train, epochs = 10, validation_data=(x_val, y_val), callbacks=[ES], verbose=1, batch_size=128)"
   ]
  },
  {
   "cell_type": "code",
   "execution_count": 38,
   "metadata": {},
   "outputs": [],
   "source": [
    "model.save(\"NLP_LSTM1_nw.h5\")"
   ]
  },
  {
   "cell_type": "code",
   "execution_count": null,
   "metadata": {},
   "outputs": [],
   "source": [
    "model2 = Sequential()\r\n",
    "model2.add(Embedding(vocab+1, 300, weights = [embedding_matrix], input_length=maxwords, trainable = True))\r\n",
    "model2.add(layers.Conv1D(filters=32, kernel_size=3, padding='same', activation='relu'))#filter et kernel\r\n",
    "model2.add(layers.BatchNormalization())\r\n",
    "model2.add(layers.MaxPooling1D(pool_size=2))#poolsize\r\n",
    "model2.add(Bidirectional(LSTM(1000)))#100\r\n",
    "model2.add(Dropout(0.50))#dropout\r\n",
    "model2.add(Dense(100,activation = 'relu'))\r\n",
    "model2.add(Dense(len(dg),activation = 'sigmoid'))\r\n",
    "model2.compile(\r\n",
    "    optimizer=tf.keras.optimizers.Adam(\r\n",
    "        learning_rate=0.001,\r\n",
    "        beta_1=0.9,\r\n",
    "        beta_2=0.999\r\n",
    "    ),\r\n",
    "    loss='categorical_crossentropy',\r\n",
    "     metrics = ['accuracy'])\r\n",
    "\r\n",
    "ES= callbacks.EarlyStopping(monitor='loss', patience=4)\r\n",
    "\r\n",
    "model2.summary()"
   ]
  },
  {
   "cell_type": "code",
   "execution_count": null,
   "metadata": {},
   "outputs": [],
   "source": [
    "history = model2.fit(x_train,y_train, epochs = 30, validation_data=(x_val, y_val), callbacks=[ES], verbose=1, batch_size=128,class_weight=cw)"
   ]
  },
  {
   "cell_type": "code",
   "execution_count": 17,
   "metadata": {},
   "outputs": [],
   "source": [
    "def prediction_score(valid,predictions,cnames=class_names):\r\n",
    "    pred = np.argmax(predictions, axis=1)\r\n",
    "    pred2 = np.argsort(predictions,axis=1)[:,-2]\r\n",
    "    pred3 = np.argsort(predictions,axis=1)[:,-3]\r\n",
    "    dict_c = dict(enumerate(cnames))\r\n",
    "    scores=[]\r\n",
    "    for v,p1,p2,p3 in zip(valid,pred,pred2,pred3):\r\n",
    "        score=0\r\n",
    "        top1 = 0\r\n",
    "        top3 = 0\r\n",
    "        if v == p1: score=1\r\n",
    "        elif v == p2: score =0.75\r\n",
    "        elif v == p3: score =0.5\r\n",
    "        if score == 1 : top1 =1\r\n",
    "        if score >=0.5 : top3=1\r\n",
    "        scores.append([dict_c.get(v),score,top1,top3])\r\n",
    "    scores_df = pandas.DataFrame(scores,columns=[\"genre\",\"score\",\"top1\",\"top3\"])\r\n",
    "    meanscore =np.round(scores_df[\"score\"].mean(),3)\r\n",
    "    sumtop = np.sum(scores_df[\"top1\"].sum())\r\n",
    "    print(\"The average score is %s\" %meanscore)\r\n",
    "    print(\"Correctly predicted %s / %s\" % (sumtop,len(scores_df)))\r\n",
    "    print(scores_df.groupby(\"genre\").agg({\"score\":\"mean\",\"top1\":[\"sum\",\"mean\"],\"top3\":[\"sum\",\"mean\"],\"genre\":\"count\"}).round(2))\r\n",
    "    return "
   ]
  },
  {
   "cell_type": "code",
   "execution_count": 16,
   "metadata": {},
   "outputs": [],
   "source": [
    "class_names=list(books['main_label'].unique().flatten())\r\n",
    "class_names.sort()\r\n",
    "def show_results(history,model,test_ds=(x_test, y_test)):\r\n",
    "    plt.plot(history.history['accuracy'])\r\n",
    "    plt.plot(history.history['val_accuracy'])\r\n",
    "    plt.title('model accuracy')\r\n",
    "    plt.ylabel('accuracy')\r\n",
    "    plt.xlabel('epoch')\r\n",
    "    plt.legend(['train', 'valid'], loc='upper left')\r\n",
    "    plt.show()\r\n",
    "    predictions = model.predict(test_ds[0])\r\n",
    "    predicted_classes = np.argmax(predictions, axis=1)\r\n",
    "    original_classes = np.argmax(test_ds[1],axis=1)\r\n",
    "    print(classification_report(original_classes, predicted_classes, target_names=class_names,zero_division=0))\r\n",
    "    prediction_score(original_classes,predictions)"
   ]
  },
  {
   "cell_type": "code",
   "execution_count": 30,
   "metadata": {},
   "outputs": [],
   "source": [
    "from tensorflow import keras\r\n",
    "NLP_model_1 = keras.models.load_model(\"NLP_LSTM1.h5\")"
   ]
  },
  {
   "cell_type": "code",
   "execution_count": 24,
   "metadata": {},
   "outputs": [
    {
     "data": {
      "image/png": "[encoded data removed]",
      "text/plain": "<Figure size 432x288 with 1 Axes>"
     },
     "metadata": {
      "needs_background": "light"
     },
     "output_type": "display_data"
    },
    {
     "name": "stdout",
     "output_type": "stream",
     "text": [
      "                       precision    recall  f1-score   support\n",
      "\n",
      "            Biography       0.35      0.32      0.34       121\n",
      "            Childrens       0.28      0.27      0.27       105\n",
      "              Fantasy       0.44      0.60      0.51       566\n",
      "           Historical       0.36      0.37      0.37       279\n",
      "               Horror       0.33      0.28      0.30        80\n",
      "      Mystery & Crime       0.40      0.34      0.37       269\n",
      "               Poetry       0.35      0.31      0.33        55\n",
      "   Politics & History       0.47      0.40      0.43       135\n",
      "Religion & Philosophy       0.41      0.58      0.48       180\n",
      "              Romance       0.47      0.38      0.42       418\n",
      "      Science Fiction       0.40      0.24      0.30       166\n",
      "       Sequential Art       0.69      0.66      0.67        92\n",
      "          Young Adult       0.31      0.27      0.29       287\n",
      "\n",
      "             accuracy                           0.41      2753\n",
      "            macro avg       0.41      0.39      0.39      2753\n",
      "         weighted avg       0.41      0.41      0.41      2753\n",
      "\n",
      "The average score is 0.568\n",
      "Correctly predicted 1138 / 2753\n",
      "                      score top1       top3       genre\n",
      "                       mean  sum  mean  sum  mean count\n",
      "genre                                                  \n",
      "Biography              0.50   39  0.32   71  0.59   121\n",
      "Childrens              0.40   28  0.27   49  0.47   105\n",
      "Fantasy                0.73  340  0.60  454  0.80   566\n",
      "Historical             0.53  104  0.37  171  0.61   279\n",
      "Horror                 0.40   22  0.28   36  0.45    80\n",
      "Mystery & Crime        0.52   92  0.34  167  0.62   269\n",
      "Poetry                 0.35   17  0.31   21  0.38    55\n",
      "Politics & History     0.58   54  0.40   91  0.67   135\n",
      "Religion & Philosophy  0.66  104  0.58  127  0.71   180\n",
      "Romance                0.60  160  0.38  290  0.69   418\n",
      "Science Fiction        0.33   40  0.24   64  0.39   166\n",
      "Sequential Art         0.72   61  0.66   69  0.75    92\n",
      "Young Adult            0.49   77  0.27  177  0.62   287\n"
     ]
    }
   ],
   "source": [
    "show_results(history_nw,model)"
   ]
  },
  {
   "cell_type": "code",
   "execution_count": 71,
   "metadata": {},
   "outputs": [],
   "source": [
    "predicted_classes = np.argmax(predictions, axis=1)\r\n",
    "oclasses = list()\r\n",
    "oclasses = [[c.numpy() for c in object[1]]for object in test_ds]\r\n",
    "original_classes = np.concatenate(oclasses).ravel()"
   ]
  },
  {
   "cell_type": "code",
   "execution_count": 23,
   "metadata": {},
   "outputs": [
    {
     "name": "stdout",
     "output_type": "stream",
     "text": [
      "Model: \"sequential_1\"\n",
      "_________________________________________________________________\n",
      "Layer (type)                 Output Shape              Param #   \n",
      "=================================================================\n",
      "embedding_1 (Embedding)      (None, 41, 300)           6079800   \n",
      "_________________________________________________________________\n",
      "conv1d_1 (Conv1D)            (None, 41, 32)            28832     \n",
      "_________________________________________________________________\n",
      "batch_normalization_1 (Batch (None, 41, 32)            128       \n",
      "_________________________________________________________________\n",
      "max_pooling1d_1 (MaxPooling1 (None, 20, 32)            0         \n",
      "_________________________________________________________________\n",
      "flatten (Flatten)            (None, 640)               0         \n",
      "_________________________________________________________________\n",
      "dense_2 (Dense)              (None, 13)                8333      \n",
      "=================================================================\n",
      "Total params: 6,117,093\n",
      "Trainable params: 6,117,029\n",
      "Non-trainable params: 64\n",
      "_________________________________________________________________\n",
      "None\n"
     ]
    }
   ],
   "source": [
    "modelCNN = Sequential()\r\n",
    "modelCNN.add(Embedding(vocab+1, 300, weights = [embedding_matrix], input_length=maxwords, trainable = True))#maxwords\r\n",
    "modelCNN.add(layers.Conv1D(filters=32, kernel_size=3, padding='same', activation='relu'))#a#<ll\r\n",
    "modelCNN.add(layers.BatchNormalization())\r\n",
    "modelCNN.add(layers.MaxPooling1D(pool_size=2))#poolsize\r\n",
    "modelCNN.add(layers.Flatten())\r\n",
    "modelCNN.add(Dense(len(dg),activation = 'softmax'))#vs relu\r\n",
    "optimizer=Adam(learning_rate=0.0001,epsilon=0.1)#lr\r\n",
    "modelCNN.compile(optimizer=optimizer,loss='categorical_crossentropy', metrics = ['accuracy'])\r\n",
    "ES= callbacks.EarlyStopping(monitor='loss', patience=3)\r\n",
    "\r\n",
    "print(modelCNN.summary())\r\n",
    "\r\n"
   ]
  },
  {
   "cell_type": "code",
   "execution_count": 24,
   "metadata": {},
   "outputs": [],
   "source": [
    "optimizer=Adam(learning_rate=0.001,epsilon=0.1)\n",
    "modelCNN.compile(optimizer='Adam',loss='categorical_crossentropy', metrics = ['accuracy'])"
   ]
  },
  {
   "cell_type": "code",
   "execution_count": 41,
   "metadata": {},
   "outputs": [
    {
     "name": "stdout",
     "output_type": "stream",
     "text": [
      "Epoch 1/25\n",
      "203/203 [==============================] - 25s 117ms/step - loss: 0.2899 - accuracy: 0.8637 - val_loss: 3.8554 - val_accuracy: 0.3869\n",
      "Epoch 2/25\n",
      "203/203 [==============================] - 24s 121ms/step - loss: 0.2628 - accuracy: 0.8761 - val_loss: 3.9726 - val_accuracy: 0.3819\n",
      "Epoch 3/25\n",
      "203/203 [==============================] - 25s 124ms/step - loss: 0.2412 - accuracy: 0.8856 - val_loss: 4.0350 - val_accuracy: 0.3812\n",
      "Epoch 4/25\n",
      "203/203 [==============================] - 25s 125ms/step - loss: 0.2256 - accuracy: 0.8942 - val_loss: 4.0724 - val_accuracy: 0.3867\n",
      "Epoch 5/25\n",
      "203/203 [==============================] - 26s 128ms/step - loss: 0.2224 - accuracy: 0.8987 - val_loss: 4.2448 - val_accuracy: 0.3599\n",
      "Epoch 6/25\n",
      "203/203 [==============================] - 27s 131ms/step - loss: 0.2168 - accuracy: 0.9001 - val_loss: 4.2482 - val_accuracy: 0.3800\n",
      "Epoch 7/25\n",
      "203/203 [==============================] - 27s 133ms/step - loss: 0.2138 - accuracy: 0.9042 - val_loss: 4.3638 - val_accuracy: 0.3697\n",
      "Epoch 8/25\n",
      "203/203 [==============================] - 26s 130ms/step - loss: 0.2040 - accuracy: 0.9076 - val_loss: 4.3988 - val_accuracy: 0.3642\n",
      "Epoch 9/25\n",
      "203/203 [==============================] - 25s 126ms/step - loss: 0.2156 - accuracy: 0.9015 - val_loss: 4.4072 - val_accuracy: 0.3798\n",
      "Epoch 10/25\n",
      "203/203 [==============================] - 26s 129ms/step - loss: 0.1811 - accuracy: 0.9150 - val_loss: 4.5399 - val_accuracy: 0.3838\n",
      "Epoch 11/25\n",
      "203/203 [==============================] - 26s 126ms/step - loss: 0.1631 - accuracy: 0.9249 - val_loss: 4.5174 - val_accuracy: 0.3808\n",
      "Epoch 12/25\n",
      "203/203 [==============================] - 27s 132ms/step - loss: 0.1513 - accuracy: 0.9285 - val_loss: 4.4873 - val_accuracy: 0.3729\n",
      "Epoch 13/25\n",
      "203/203 [==============================] - 27s 133ms/step - loss: 0.1425 - accuracy: 0.9316 - val_loss: 4.5039 - val_accuracy: 0.3881\n",
      "Epoch 14/25\n",
      "203/203 [==============================] - 27s 135ms/step - loss: 0.1399 - accuracy: 0.9351 - val_loss: 4.5723 - val_accuracy: 0.3846\n",
      "Epoch 15/25\n",
      "203/203 [==============================] - 27s 133ms/step - loss: 0.1317 - accuracy: 0.9377 - val_loss: 4.7335 - val_accuracy: 0.3634\n",
      "Epoch 16/25\n",
      "203/203 [==============================] - 26s 130ms/step - loss: 0.1238 - accuracy: 0.9407 - val_loss: 4.6624 - val_accuracy: 0.3765\n",
      "Epoch 17/25\n",
      "203/203 [==============================] - 27s 134ms/step - loss: 0.1227 - accuracy: 0.9426 - val_loss: 4.6558 - val_accuracy: 0.3835\n",
      "Epoch 18/25\n",
      "203/203 [==============================] - 27s 133ms/step - loss: 0.1220 - accuracy: 0.9419 - val_loss: 4.8026 - val_accuracy: 0.3641\n",
      "Epoch 19/25\n",
      "203/203 [==============================] - 27s 135ms/step - loss: 0.1229 - accuracy: 0.9430 - val_loss: 4.7530 - val_accuracy: 0.3926\n",
      "Epoch 20/25\n",
      "203/203 [==============================] - 27s 135ms/step - loss: 0.1242 - accuracy: 0.9434 - val_loss: 4.7065 - val_accuracy: 0.3783\n",
      "Epoch 21/25\n",
      "203/203 [==============================] - 27s 134ms/step - loss: 0.1261 - accuracy: 0.9418 - val_loss: 4.7010 - val_accuracy: 0.3882\n",
      "Epoch 22/25\n",
      "203/203 [==============================] - 27s 135ms/step - loss: 0.1271 - accuracy: 0.9398 - val_loss: 4.7703 - val_accuracy: 0.3747\n",
      "Epoch 23/25\n",
      "203/203 [==============================] - 27s 132ms/step - loss: 0.1221 - accuracy: 0.9422 - val_loss: 4.7477 - val_accuracy: 0.3855\n"
     ]
    }
   ],
   "source": [
    "ES5= callbacks.EarlyStopping(monitor='loss', patience=5)\n",
    "\n",
    "historyCNN = modelCNN.fit(x_train,y_train, epochs = 25, validation_data=(x_val, y_val), callbacks=[ES5], verbose=1, batch_size=128, class_weight=cw)"
   ]
  },
  {
   "cell_type": "code",
   "execution_count": 136,
   "metadata": {},
   "outputs": [
    {
     "name": "stdout",
     "output_type": "stream",
     "text": [
      "[0 0 0 0 0 0 0 1 0 0 0 0 0] [0. 0. 0. 0. 0. 0. 0. 1. 0. 0. 0. 0. 0.]\n"
     ]
    }
   ],
   "source": []
  },
  {
   "cell_type": "code",
   "execution_count": 142,
   "metadata": {},
   "outputs": [
    {
     "data": {
      "text/plain": [
       "(38613, 41)"
      ]
     },
     "execution_count": 142,
     "metadata": {},
     "output_type": "execute_result"
    }
   ],
   "source": []
  },
  {
   "cell_type": "code",
   "execution_count": 15,
   "metadata": {},
   "outputs": [],
   "source": [
    "def prediction(sentence, modele=model):\n",
    "    sentence = sentence.lower()\n",
    "    sentence=sentence.split(' ')\n",
    "    test = xtoken.texts_to_sequences(sentence)\n",
    "    flat_list =  [[item for elem in test for item in elem]]\n",
    "    bob = pad_sequences(flat_list, maxlen=41, padding='pre')\n",
    "    a=modele.predict(bob)\n",
    "    b=np.argmax(a, axis=1)\n",
    "    pred2 = np.argsort(a,axis=1)[:,-2]\n",
    "    pred3 = np.argsort(a,axis=1)[:,-3]\n",
    "    genre=idx2lab[b[0]]\n",
    "    return (genre, a, pred2 pred3)\n",
    "    \n",
    "\n"
   ]
  },
  {
   "cell_type": "code",
   "execution_count": 24,
   "metadata": {},
   "outputs": [
    {
     "data": {
      "text/plain": [
       "('Romance',\n",
       " array([[0.4749476 , 0.01452982, 0.53089595, 0.10134837, 0.8884505 ,\n",
       "         0.8770132 , 0.04750389, 0.10779369, 0.16176668, 0.9239906 ,\n",
       "         0.53383493, 0.44093302, 0.8590435 ]], dtype=float32))"
      ]
     },
     "execution_count": 24,
     "metadata": {},
     "output_type": "execute_result"
    }
   ],
   "source": [
    "prediction(\"love murder\")"
   ]
  },
  {
   "cell_type": "code",
   "execution_count": 209,
   "metadata": {},
   "outputs": [
    {
     "name": "stdout",
     "output_type": "stream",
     "text": [
      "['i', 'love', 'you'] [[16], [11], [15]] [[16, 11, 15]] [[ 0  0  0  0  0  0  0  0  0  0  0  0  0  0  0  0  0  0  0  0  0  0  0  0\n",
      "   0  0  0  0  0  0  0  0  0  0  0  0  0  0 16 11 15]]\n"
     ]
    }
   ],
   "source": [
    "# ne pas exécuter\n",
    "sentence='I love you'\n",
    "sentence = sentence.lower()\n",
    "sentence=sentence.split(' ')\n",
    "test = xtoken.texts_to_sequences(sentence)\n",
    "flat_list =  [[item for elem in test for item in elem]]\n",
    "bob = pad_sequences(flat_list, maxlen=41, padding='pre')\n",
    "print (sentence, test, flat_list, bob)"
   ]
  },
  {
   "cell_type": "code",
   "execution_count": 176,
   "metadata": {},
   "outputs": [
    {
     "data": {
      "text/plain": [
       "array([    0,     0,     0,     0,     0,     0,     0,     0,     0,\n",
       "           0,     0,     0,     0,     0,     0,     0,     0,     0,\n",
       "           0,     0,     0,     0,     0,     0,     0,     0,     0,\n",
       "           0,     0,   319,     1,   168, 10218,     8,    35,     4,\n",
       "         197,     5,     3,  6958, 10219])"
      ]
     },
     "execution_count": 176,
     "metadata": {},
     "output_type": "execute_result"
    }
   ],
   "source": [
    "from sklearn.metrics import classification_report\n",
    "print(classification_report( y_train, predicted_classes, target_names=class_names))"
   ]
  },
  {
   "cell_type": "code",
   "execution_count": 44,
   "metadata": {},
   "outputs": [
    {
     "name": "stderr",
     "output_type": "stream",
     "text": [
      "WARNING:absl:Found untraced functions such as lstm_cell_1_layer_call_and_return_conditional_losses, lstm_cell_1_layer_call_fn, lstm_cell_2_layer_call_and_return_conditional_losses, lstm_cell_2_layer_call_fn, lstm_cell_1_layer_call_fn while saving (showing 5 of 10). These functions will not be directly callable after loading.\n",
      "WARNING:absl:Found untraced functions such as lstm_cell_1_layer_call_and_return_conditional_losses, lstm_cell_1_layer_call_fn, lstm_cell_2_layer_call_and_return_conditional_losses, lstm_cell_2_layer_call_fn, lstm_cell_1_layer_call_fn while saving (showing 5 of 10). These functions will not be directly callable after loading.\n"
     ]
    },
    {
     "name": "stdout",
     "output_type": "stream",
     "text": [
      "INFO:tensorflow:Assets written to: C:/Users/benoi/Documents/HEC/_Hiver 2021/Machine Learning/projet/CNN-LSTM\\assets\n"
     ]
    },
    {
     "name": "stderr",
     "output_type": "stream",
     "text": [
      "INFO:tensorflow:Assets written to: C:/Users/benoi/Documents/HEC/_Hiver 2021/Machine Learning/projet/CNN-LSTM\\assets\n"
     ]
    }
   ],
   "source": [
    "model.save('C:/Users/benoi/Documents/HEC/_Hiver 2021/Machine Learning/projet/CNN-LSTM')"
   ]
  },
  {
   "cell_type": "code",
   "execution_count": null,
   "metadata": {},
   "outputs": [],
   "source": []
  }
 ],
 "metadata": {
  "kernelspec": {
   "display_name": "Python 3.8.8 64-bit (windows store)",
   "name": "python388jvsc74a57bd0dd3bd3722d55832e94689fac739e2c4b496bf0eb12989a7898367024420b8016"
  },
  "language_info": {
   "codemirror_mode": {
    "name": "ipython",
    "version": 3
   },
   "file_extension": ".py",
   "mimetype": "text/x-python",
   "name": "python",
   "nbconvert_exporter": "python",
   "pygments_lexer": "ipython3",
   "version": "3.8.8"
  },
  "metadata": {
   "interpreter": {
    "hash": "dd3bd3722d55832e94689fac739e2c4b496bf0eb12989a7898367024420b8016"
   }
  }
 },
 "nbformat": 4,
 "nbformat_minor": 4
}